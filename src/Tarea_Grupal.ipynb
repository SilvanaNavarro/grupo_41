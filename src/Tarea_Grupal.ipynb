{
  "cells": [
    {
      "cell_type": "markdown",
      "metadata": {},
      "source": [
        "# Tarea: Análisis Visual de Ventas de Tienda de Conveniencia\n",
        "\n",
        "### **Equipo:** [Inserte nombres de los integrantes]\n",
        "### **Grupo:** [Inserte número de grupo]\n",
        "### **Curso:** Visualización de Datos en Python"
      ]
    },
    {
      "cell_type": "markdown",
      "metadata": {},
      "source": [
        "## Descripción del Caso\n",
        "\n",
        "Una cadena de tiendas de conveniencia quiere analizar sus ventas y el comportamiento de los clientes para mejorar su estrategia de marketing. Para ello, han recopilado un conjunto de datos que incluye información sobre las ventas, los productos y los clientes. Su misión será usar las técnicas de visualización de datos aprendidas para analizar y presentar los resultados de este conjunto de datos."
      ]
    },
    {
      "cell_type": "markdown",
      "metadata": {},
      "source": [
        "## Indicaciones Generales\n",
        "\n",
        "1.  **Dataset:** Utilizarán el dataset \"Supermarket Sales\" disponible en Kaggle (data.csv).\n",
        "2.  **Entorno:** Trabajen según las indicaciones de este notebook.\n",
        "3.  **Colaboración:** Esta es una tarea grupal. Asegúrense de coordinar el trabajo.\n",
        "4.  **Streamlit:** Se requiere crear un dashboard interactivo usando la librería Streamlit. Deberán escribir y ejecutar su código como script the python (archivo .py), pero deben también escribir el código en una celda dentro de éste jupyter notebook para su revisión.\n",
        "5.  **Pensamiento Crítico:** Incluyan reflexiones y justificaciones para sus elecciones de visualización y análisis.\n",
        "6.  **Entrega:** Entreguen este notebook completado según las indicaciones."
      ]
    },
    {
      "cell_type": "markdown",
      "metadata": {},
      "source": [
        "## 1. Selección de Variables y desarrollo de Análisis\n",
        "\n",
        "\n",
        "a.  Examinen el conjunto de datos proporcionado (`df.info()`, `df.describe()`, `df.columns`).\n",
        "\n",
        "b.  Identifiquen y **justifiquen** las variables que consideren más relevantes para un análisis significativo del comportamiento de ventas y clientes. \n",
        "\n",
        "c.  Reflexionen sobre la importancia de cada variable seleccionada en el contexto del caso de estudio (¿Qué preguntas de negocio pueden ayudar a responder?)."
      ]
    },
    {
      "cell_type": "markdown",
      "metadata": {},
      "source": [
        "## Análisis Requeridos:\n",
        "\n",
        "1.  **Evolución de las Ventas Totales:**\n",
        "    *   **Objetivo:** Mostrar cómo han variado las ventas totales (`Total`) a lo largo del tiempo (`Date`).\n",
        "\n",
        "2.  **Ingresos por Línea de Producto:**\n",
        "    *   **Objetivo:** Comparar los ingresos (`Total`) generados por cada `Product line`.\n",
        "\n",
        "3.  **Distribución de la Calificación de Clientes:**\n",
        "    *   **Objetivo:** Analizar la distribución de las calificaciones (`Rating`) de los clientes.\n",
        "\n",
        "4.  **Comparación del Gasto por Tipo de Cliente:**\n",
        "    *   **Objetivo:** Comparar la distribución del gasto total (`Total`) entre clientes `Member` y `Normal`.\n",
        "\n",
        "5.  **Relación entre Costo y Ganancia Bruta:**\n",
        "    *   **Objetivo:** Visualizar la relación entre el costo de bienes vendidos (`cogs`) y el ingreso bruto (`gross income`).\n",
        "\n",
        "6.  **Métodos de Pago Preferidos:**\n",
        "    *   **Objetivo:** Identificar los métodos de pago (`Payment`) más frecuentes.\n",
        "\n",
        "7.  **Análisis de Correlación Numérica:**\n",
        "    *   **Objetivo:** Explorar relaciones lineales entre variables numéricas (`Unit price`, `Quantity`, `Tax 5%`, `Total`, `cogs`, `gross income`, `Rating`).\n",
        "\n",
        "8.  **Composición del Ingreso Bruto por Sucursal y Línea de Producto:**\n",
        "    *   **Objetivo:** Mostrar la contribución de cada `Product line` al `gross income` dentro de cada `Branch`.\n",
        "\n",
        "---\n",
        "\n",
        "## Requisitos Adicionales:\n",
        "*   Implementación en Streamlit.\n",
        "*   Gráficos claros (títulos, etiquetas).\n",
        "*   Interactividad (filtros) donde sea apropiado.\n",
        "*   Aplicación de buenas prácticas de visualización (claridad)."
      ]
    },
    {
      "cell_type": "markdown",
      "metadata": {},
      "source": [
        "## 2. Integración en un Dashboard (Streamlit)\n",
        "\n",
        "a.  Utilizando Streamlit, integren **algunas** de sus visualizaciones y hallazgos clave en un dashboard interactivo.\n",
        "\n",
        "b.  Asegúrense de que el dashboard sea intuitivo y bien organizado (usen títulos, texto explicativo, widgets interactivos como sliders o selectores para filtrar datos).\n",
        "\n",
        "c.  Reflexionen sobre cómo la interactividad del dashboard mejora la experiencia del usuario y el proceso de toma de decisiones basado en los datos presentados.\n",
        "\n",
        "**Instrucciones:**\n",
        "1.  Escriban el código completo de su aplicación Streamlit en la celda de código de abajo.\n",
        "2.  Copien ese código a un archivo de texto simple llamado `dashboard_tarea.py` (o el nombre que prefieran).\n",
        "3.  Abran una terminal o Anaconda Prompt, naveguen a la carpeta donde guardaron el archivo.\n",
        "4.  Ejecuten el comando: `streamlit run dashboard_tarea.py`\n",
        "5.  Interactúen con su dashboard en el navegador.\n",
        "6.  **Importante:** En la celda de Markdown siguiente, describan su dashboard, qué visualizaciones incluye, qué interacciones permite, y adjunten el código de su script de python."
      ]
    },
    {
      "cell_type": "markdown",
      "id": "3d08bc74",
      "metadata": {},
      "source": [
        "# Descripción de gráficos\n",
        "\n",
        "### Evolución de las Ventas Totales:\n",
        "Objetivo: Mostrar cómo han variado las ventas totales (Total) a lo largo del tiempo (Date).\n",
        "\n",
        "- El gráfico de la evolución de las ventas totales a lo largo del periodo permite evaluar cómo es el volumen de las ventas a través del tiempo, pudiendo identificar aquellos periodos de menores y mayores ventas, con el fin de estar preparados para esos periodos y ajustar el stock de los productos. Además, esto puede asociarse a ciertos eventos temporales y permitir predecir posibles comportamientos en el futuro.\n",
        "### Ingresos por Línea de Producto:\n",
        "Objetivo: Comparar los ingresos (Total) generados por cada Product line.\n",
        "\n",
        "- El siguiente gráfico permite el análisis de la venta de los diferentes productos ofrecidos, pudiendo identificar aquellos que tienen una mayor venta según el periodo en evaluación. Este análisis permite poder definir el nivel de stocks por productos a considerar y su aporte al total de ingresos de la venta generadas.\n",
        "### Distribución de la Calificación de Clientes:\n",
        "Objetivo: Analizar la distribución de las calificaciones (Rating) de los clientes.\n",
        "\n",
        "- Se clasifican las calificaciones de los productos en base al género (femenino y masculino), si bien se observa que existen algunos peacks de calificación que difieren entre los géneros en algunos periodos, estos en el tiempo se mantienen entre una calificación promedio de 6 a 8. Se podría identificar qué productos son los que tienen una menor evaluación y mejor e identificar a qué factores puede deberse.\n",
        "Por otro lado, se visualiza un gráfico de frecuencia de las calificaciones, en donde se observa que la media es de 6.84. teniendo una buena evaluación de los productos pero con hartas posibilidades de mejoras también.\n",
        "### Comparación del Gasto por Tipo de Cliente:\n",
        "Objetivo: Comparar la distribución del gasto total (Total) entre clientes Member y Normal.\n",
        "\n",
        "- En estos gráficos se puede observar que el porcentaje de ventas total esta representado en un 51.2% por aquellos clientes que cuentan con una membresía, sin embargo, a lo largo del tiempo se observa que existen periodos en donde las ventas de los clientes normales son mayores a aquellos con membresía. Este gráfico permite identificar aquellos periodos en donde existe un potencial para capturar nuevos clientes que se suscriban a la membresía del local.\n",
        "### Relación entre Costo y Ganancia Bruta:\n",
        "Objetivo: Visualizar la relación entre el costo de bienes vendidos (cogs) y el ingreso bruto (gross income).\n",
        "\n",
        "- El gráfico muestra un alto costo de adquisición de los productos que se venden, no estando retribuido dichos costos en el ingreso bruto de estos. El gráfico nos indica que el ingreso bruto esta muy por debajo de los costos, por lo que la ganancia neta por la venta de productos estaría generando pérdidas en el negocio.\n",
        "### Métodos de Pago Preferidos:\n",
        "Objetivo: Identificar los métodos de pago (Payment) más frecuentes.\n",
        "\n",
        "- En cuánto al método de pago se muestra que existe una preferencia por el pago en efectivo y ewallet. Es importante este tipo de análisis para identificar que es necesario un buen flujo de efectivo en caja.\n",
        "Por otro lado, también se destaca que el uso de plataformas digitales para el método de pago ha ido imponiéndose por sobre las ventas con tarjeta de crédito.\n",
        "### Análisis de Correlación Numérica:\n",
        "Objetivo: Explorar relaciones lineales entre variables numéricas (Unit price, Quantity, Tax 5%, Total, cogs, gross income, Rating).\n",
        "\n",
        "- Este gráfico es una herramienta útil para entender cómo se relacionan las variables y para identificar posibles redundancias o patrones en los datos. Mientras las variables sean cercanas a 1, quiere decir que las variables van en la misma dirección, mientras que si es más cercano a -1 las variables van en direcciones opuestas. Por otro lado, si las variables son cercanas a 0 no existe una relación lineal entre ellas.\n",
        "### Composición del Ingreso Bruto por Sucursal y Línea de Producto:\n",
        "### Objetivo: Mostrar la contribución de cada Product line al gross income dentro de cada Branch.\n",
        "\n",
        "\n",
        "\n",
        "\n",
        "\n"
      ]
    },
    {
      "cell_type": "code",
      "execution_count": null,
      "id": "60c9e92e",
      "metadata": {
        "lc-needs-sanitizing": false
      },
      "outputs": [],
      "source": [
        "# --- Describan su Dashboard (Gráficos Utilizados y Justificación de su uso) --- \n",
        "\n",
        "''' ESCRIBIR AQUÍ SU DESCRIPCIÓN DEL DASHBOARD'''"
      ]
    },
    {
      "cell_type": "code",
      "execution_count": null,
      "id": "7cfbdf36",
      "metadata": {},
      "outputs": [],
      "source": [
        "# --- CÓDIGO PARA dashboard_tarea_grupo_X.py --- \n",
        "# (Este bloque NO se ejecuta directamente en Jupyter)\n",
        "\n",
        "''' PEGAR A CONTINUACIÓN EL CÓDIGO DEL DASHBOARD '''"
      ]
    },
    {
      "cell_type": "markdown",
      "metadata": {},
      "source": [
        "# 3. Deployment\n",
        "\n",
        "a.  Desplieguen su dashboard en Streamlit Cloud.\n",
        "\n",
        "b.  Asegúrense de que el dashboard sea accesible públicamente.\n",
        "\n",
        "c.  Proporcionen el enlace al dashboard desplegado en la celda de Markdown siguiente.\n",
        "\n",
        "d.  Reflexionen sobre el proceso de despliegue y cualquier desafío que hayan enfrentado.\n"
      ]
    },
    {
      "cell_type": "markdown",
      "id": "9d828784",
      "metadata": {},
      "source": [
        "En el caso que no hayan podido deployar:"
      ]
    },
    {
      "cell_type": "code",
      "execution_count": null,
      "id": "364663fb",
      "metadata": {},
      "outputs": [],
      "source": [
        "'''\n",
        "Comentar si hubo problemas con el código o si no se ejecutó correctamente que les impidieron realizar el análisis completo y el deployment del dashboard.\n",
        "'''"
      ]
    },
    {
      "cell_type": "markdown",
      "id": "083cd8f3",
      "metadata": {},
      "source": [
        "En el caso que hayan podido deployar:"
      ]
    },
    {
      "cell_type": "code",
      "execution_count": null,
      "id": "5584ebd3",
      "metadata": {},
      "outputs": [],
      "source": [
        "'''\n",
        "Poner aquí la url de su dashboard en el servidor de Streamlit.\n",
        "Ejemplo: https://share.streamlit.io/streamlit/demo-uber-nyc-pickups\n",
        "'''"
      ]
    },
    {
      "cell_type": "markdown",
      "metadata": {},
      "source": [
        "# 4. Conclusiones Generales\n",
        "\n",
        "Reflexionen sobre el proceso de análisis y visualización. ¿Qué aprendieron sobre los datos de la tienda? ¿Qué limitaciones encontraron en los datos o en las técnicas de visualización? ¿Qué recomendaciones (basadas en los datos) podrían darle a la cadena de tiendas?"
      ]
    },
    {
      "cell_type": "code",
      "execution_count": null,
      "id": "a7a03bf9",
      "metadata": {},
      "outputs": [],
      "source": [
        "'''\n",
        "A modo de conclusión podemos decir que el análisis de los datos mediante los gráficos hace que la visualización de la información sea más entendible y más fácil de analizar para poder sacar conclusiones de ella y así tomar decisiones estratégicas dentro del entorno en el cual se desenvuelve cualquier tipo de negocio. Del análisis de las ventas de la tienda podemos decir lo siguiente:
            - Identificar la evolución de las ventas a lo largo del tiempo, le permite a la tienda identificar patrones estacionales, pudiendo anticipar los periodos de alta y baja demanda y tomar medidas para ello. Se observa que la alta demanda es generalmente los fines de semana y un día a mitad de semana, siendo el lunes el día con menores ventas.
            - El desglose por ingreso por producto permite planificar los inventarios y focalizar la compra en aquellos que son más rentables y replantear si es necesario cambiar los productos menos rentables por algún otro producto o marca.
            - Las calificaciones por genero revela las percepciones diferentes, aportando datos útiles para el diseño de campañas de marketing y mejoras en los productos. En general las calificaciones estan por sobre el promedio, por lo que se recomienda analizar aquellos productos con menor calificación y replantearse si debe ser sustituido por algún otro.
            - Al observas el gasto por tipo de cliente, se observa que existe un gran número de cliente sin membresía que puede ser capturado, para ello se podrían realizar campañas o estrategias para atraer mas personas a afiliarse a la tienda y con ello fortalecer la fidelización.
            - La comparación entre costos e ingreso bruto, evidencia la necesidad de revisar la estrategia de precios y costos actuales, ya que los ingresos no estan compensando los costos de adquisición, siento un negocio no rentable.
            - Conocer los métodos de pago preferidos, permite visualizar en las facilidades que se le debe dar al cliente para que pueda pagar, teniendo un flujo de caja que de abasto al pago en efectivo y contar con tecnologías como el pago con tarjeta y ewallet.
            - La matriz de correlación entre variables ayuda a mejorar la experiencia de los clientes y optimizar los procesos internos de la tienda.
        Finalmente podemos decir que el uso de plataformas para el análisis de grandes volúmenes de datos es una herramienta necesaria para este tipo de estudios, ya que no sólo permite una visualización dinámica e interactiva con la información, sino que también permite una exploración a fondo relacionando variables de una manera fácil y visual. Estas plataformas permiten transformar los datos en conocimiento importante, agilizando la toma de decisiones, mejorando la eficiencia operativa y anticiparse a los escenarios futuros a través de modelos predictivos.\n",
        "'''"
      ]
    },
    {
      "cell_type": "markdown",
      "metadata": {},
      "source": [
        "# 5. Referencias\n",
        "\n",
        "Listar las fuentes utilizadas (dataset, bibliotecas principales, material de referencia adicional si aplica)."
      ]
    },
    {
      "cell_type": "code",
      "execution_count": null,
      "id": "2cf3b500",
      "metadata": {},
      "outputs": [],
      "source": [
        "'''\n",
        "Bibliografía
            Provost, F., & Fawcett, T. (2013). Data Science for Business: What You Need to Know about Data Mining and Data-Analytic Thinking. O'Reilly Media.

            Marr, B. (2016). Big Data in Practice: How 45 Successful Companies Used Big Data Analytics to Deliver Extraordinary Results. Wiley.

            Few, S. (2009). Now You See It: Simple Visualization Techniques for Quantitative Analysis. Analytics Press.

            McKinney, W. (2017). Python for Data Analysis: Data Wrangling with Pandas, NumPy, and IPython. O'Reilly Media.

            Tableau Software. (n.d.). Visual Analysis Best Practices. Recuperado de: https://www.tableau.com/learn/whitepapers/visual-analysis-best-practices.\n",
        "'''"
      ]
    },
    {
      "cell_type": "markdown",
      "id": "20682a90",
      "metadata": {},
      "source": [
        "## NOTA FINAL:\n",
        "### Asegúrense de sólo subir el jupyter notebook a la plataforma, con un formato del tipo: \"Trabajo_Grupo_X.ipynb\".\n",
        "### No es necesario incluir el archivo .py del dashboard, pero sí el código dentro de este cuaderno en el apartado correspondiente."
      ]
    },
    {
      "cell_type": "markdown",
      "id": "5a19ce43",
      "metadata": {},
      "source": []
    }
  ],
  "metadata": {
    "kernelspec": {
      "display_name": "Python 3 (ipykernel)",
      "language": "python",
      "name": "python3"
    },
    "language_info": {
      "codemirror_mode": {
        "name": "ipython",
        "version": 3
      },
      "file_extension": ".py",
      "mimetype": "text/x-python",
      "name": "python",
      "nbconvert_exporter": "python",
      "pygments_lexer": "ipython3",
      "version": "3.9.12"
    }
  },
  "nbformat": 4,
  "nbformat_minor": 5
}
